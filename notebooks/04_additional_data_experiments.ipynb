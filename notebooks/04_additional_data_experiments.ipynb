{
 "cells": [
  {
   "cell_type": "markdown",
   "id": "7846adf0",
   "metadata": {},
   "source": [
    "### Fastai Classification - Evaluating models on the dataset of Howard et al.\n",
    "This notebook demonstrates the steps taken to estimate performance of the manufacturer and model classification mode on the additional dataset published alongside the `Cardiac Rhythm Device Identification Using Neural Networks` paper by Howard et al (https://www.jacc.org/doi/10.1016/j.jacep.2019.02.003). To do this, the model/manufacturer composition of the additional dataset is compared against the composition of our dataset. There are 3 common models and 3 common manufacturers between the dataset which are used for testing of our models. Only the test portion of the additional dataset is taken in order to compare the models directly on the same images. \n",
    "\n",
    "Since Howard data features images in the form of center crop of devices, segmentation step of our pipeline is irrelevant for experimental purposes, and the images from the addditional dataset are taken as is. \n",
    "\n",
    "The mirror experiment, where the model designed by Howard et al is tested using out test data, is available in our paper and has been performed using the web application hosted by the paper authors. "
   ]
  },
  {
   "cell_type": "code",
   "execution_count": 1,
   "id": "5784af17",
   "metadata": {},
   "outputs": [],
   "source": [
    "import torch\n",
    "import pandas as pd\n",
    "from fastai.vision.all import *\n",
    "import os\n",
    "import numpy as np\n",
    "import json\n",
    "import sklearn\n",
    "import pickle\n",
    "from pathlib import Path\n",
    "import warnings\n",
    "import shutil\n",
    "\n",
    "warnings.filterwarnings(\"ignore\")"
   ]
  },
  {
   "cell_type": "code",
   "execution_count": 2,
   "id": "0df4afe2",
   "metadata": {},
   "outputs": [],
   "source": [
    "# Setting the paths to the folders with datasets.\n",
    "\n",
    "abs_dataset_path = Path(\"/workdir/cied/Dataset\")\n",
    "add_dataset_dir = Path(abs_dataset_path / \"202401002_add_dataset\")\n",
    "rel_dataset_path = Path(os.path.relpath(abs_dataset_path))"
   ]
  },
  {
   "cell_type": "markdown",
   "id": "67c9e6d8",
   "metadata": {},
   "source": [
    "## Running validation"
   ]
  },
  {
   "cell_type": "code",
   "execution_count": 3,
   "id": "efa10a1f",
   "metadata": {},
   "outputs": [],
   "source": [
    "# Loading the metadata for the additional dataset\n",
    "add_df = pd.read_excel(add_dataset_dir / \"20240203_metadata.xlsx\")"
   ]
  },
  {
   "cell_type": "code",
   "execution_count": 4,
   "id": "ba5a9ab1",
   "metadata": {},
   "outputs": [],
   "source": [
    "# Defining paths to the images according to our scheme\n",
    "add_df[\"patch_fname\"] = add_df[\"split\"] + \"/\" + add_df[\"model\"] + \"/\" + add_df[\"filename\"]\n",
    "rel_add_dataset_path = Path(os.path.relpath(add_dataset_dir))\n",
    "add_df.loc[:, \"patch_fname\"] = add_df.loc[:, \"patch_fname\"].apply(lambda x: str(rel_add_dataset_path / x))"
   ]
  },
  {
   "cell_type": "code",
   "execution_count": 5,
   "id": "ae52387c",
   "metadata": {},
   "outputs": [],
   "source": [
    "# Defining the dataset portion used as a validation split used in the original experiments of Howard et al.\n",
    "add_df[\"is_valid\"] = add_df[\"split\"] == \"Test\"\n",
    "add_df = add_df[add_df[\"is_valid\"]]"
   ]
  },
  {
   "cell_type": "code",
   "execution_count": 6,
   "id": "d23a69d8",
   "metadata": {},
   "outputs": [
    {
     "data": {
      "text/plain": [
       "MDT    78\n",
       "BOS    53\n",
       "SOR    37\n",
       "STJ    35\n",
       "BIO    13\n",
       "Name: model, dtype: int64"
      ]
     },
     "execution_count": 6,
     "metadata": {},
     "output_type": "execute_result"
    }
   ],
   "source": [
    "# Displaying manufacturer information in the dataset. Our dataset has all the manufacturers lists except for SOR (Sorin)\n",
    "manufacturer_tally = add_df[\"model\"].apply(lambda x: x.split(\" \")[0]).value_counts()\n",
    "manufacturer_tally"
   ]
  },
  {
   "cell_type": "code",
   "execution_count": 7,
   "id": "d2592425",
   "metadata": {},
   "outputs": [
    {
     "data": {
      "text/plain": [
       "REVEAL LINQ                                 5\n",
       "Elect                                       5\n",
       "C60 DR                                      5\n",
       "Accent                                      5\n",
       "EnRhythm                                    5\n",
       "Emblem                                      5\n",
       "AT500                                       5\n",
       "Ovatio                                      5\n",
       "Ellipse                                     5\n",
       "Azure                                       5\n",
       "Allure Quadra                               5\n",
       "Autogen_Teligen_Energen_Cognis              5\n",
       "MiniSwing                                   5\n",
       "Vitality                                    5\n",
       "Identity                                    5\n",
       "Ingenio                                     5\n",
       "Visionist                                   5\n",
       "Evia                                        5\n",
       "Reply                                       5\n",
       "Sigma                                       5\n",
       "Zephyr                                      5\n",
       "Neway                                       5\n",
       "Adapta_Kappa_Sensia_Versa                   5\n",
       "Maximo                                      5\n",
       "Syncra                                      5\n",
       "Insync III                                  5\n",
       "Concerto_Consulta_Maximo_Protecta_Secura    5\n",
       "Claria_Evera_Viva                           5\n",
       "Quadra Assura_Unify                         5\n",
       "Victory                                     5\n",
       "Advisa                                      5\n",
       "Proponent                                   5\n",
       "Contak Renewal 4                            5\n",
       "Thesis                                      5\n",
       "Contak Renewal TR2                          5\n",
       "Ventak Prizm                                5\n",
       "C20_T20                                     5\n",
       "ContakTR_Discovery_Meridian_Pulsar Max      4\n",
       "Cyclos                                      4\n",
       "Elect XS Plus                               4\n",
       "Vita II                                     4\n",
       "Actros_Philos                               4\n",
       "Altrua_Insignia                             4\n",
       "REVEAL                                      4\n",
       "Rhapsody_Symphony                           3\n",
       "Name: model, dtype: int64"
      ]
     },
     "execution_count": 7,
     "metadata": {},
     "output_type": "execute_result"
    }
   ],
   "source": [
    "# Displaying model information in the dataset. The only common models between the datasets are:\n",
    "# * Quadra Assura_Unify\n",
    "# * Allure Quadra\n",
    "# * REVEAL LINQ\n",
    "\n",
    "model_tally = add_df[\"model\"].apply(lambda x: x.split(\"-\")[1].lstrip(\" \")).value_counts()\n",
    "model_tally"
   ]
  },
  {
   "cell_type": "code",
   "execution_count": 8,
   "id": "e42a6544",
   "metadata": {},
   "outputs": [],
   "source": [
    "# Removing the nonmatching models from the dataset\n",
    "matching_models = [\n",
    "    \"STJ - Quadra Assura_Unify\",\n",
    "    \"STJ - Allure Quadra\",\n",
    "    \"MDT - REVEAL LINQ\",\n",
    "]\n",
    "\n",
    "add_df = add_df[add_df[\"model\"].apply(lambda x: x in matching_models)]"
   ]
  },
  {
   "cell_type": "code",
   "execution_count": 9,
   "id": "0ffe04cb",
   "metadata": {},
   "outputs": [],
   "source": [
    "# Bringing the column manufacturer column in lime of our schema\n",
    "add_df.rename(columns={\"manufacturer\": \"Hersteller\"}, inplace=True)"
   ]
  },
  {
   "cell_type": "code",
   "execution_count": 10,
   "id": "6b2e1d1c",
   "metadata": {},
   "outputs": [],
   "source": [
    "# Mapping the model names to our schema\n",
    "howard_model_mapping = {\n",
    "    \"MDT - REVEAL LINQ\": \"Reveal LINQ\",\n",
    "    \"STJ - Allure Quadra\": \"Quadra Allure MP\",\n",
    "    \"STJ - Quadra Assura_Unify\": \"Quadra Assura\",\n",
    "}\n",
    "\n",
    "add_df[\"Exaktes_Modell\"] = add_df[\"model\"].apply(lambda x: howard_model_mapping[x])"
   ]
  },
  {
   "cell_type": "code",
   "execution_count": 11,
   "id": "792435d8",
   "metadata": {},
   "outputs": [],
   "source": [
    "# Loading our metadata spreadsheet. This is required, since fastai estimates the\n",
    "# number of output classes based on the dataloader used when loading the mode\n",
    "\n",
    "df = pd.read_excel(abs_dataset_path / \"04_train_data_clf.xlsx\")\n",
    "\n",
    "# Providing relative paths to the filenames for the dataloader\n",
    "df.loc[:, \"patch_fname\"] = df.loc[:, \"patch_fname\"].apply(lambda x: str(rel_dataset_path / \"Classification\" / x))"
   ]
  },
  {
   "cell_type": "code",
   "execution_count": 12,
   "id": "78b948d6",
   "metadata": {},
   "outputs": [],
   "source": [
    "# Adding out train metadata to the additional dataset metadata for reasons stated in the previous cell\n",
    "holdout_df = add_df.copy()\n",
    "add_df = pd.concat([df[~df[\"is_valid\"]], add_df])"
   ]
  },
  {
   "cell_type": "code",
   "execution_count": 13,
   "id": "8dd2be71",
   "metadata": {
    "scrolled": true
   },
   "outputs": [],
   "source": [
    "# Defining the dataloader and loading the model for manufacturer prediction\n",
    "dls = ImageDataLoaders.from_df(\n",
    "    add_df,\n",
    "    fn_col=\"patch_fname\",\n",
    "    label_col=\"Hersteller\",\n",
    "    valid_col=\"is_valid\",\n",
    "    item_tfms=Resize(256),\n",
    "    batch_tfms=[*aug_transforms(size=256, min_scale=0.1)],\n",
    "    bs=16,\n",
    ")\n",
    "\n",
    "exp_name = \"s256_cls_h\"\n",
    "\n",
    "learner = vision_learner(dls, resnet50, metrics=accuracy).to_fp16()\n",
    "load_model(\"models/{}\".format(exp_name), learner.model, learner.opt, device=\"cpu\")"
   ]
  },
  {
   "cell_type": "code",
   "execution_count": 14,
   "id": "4252dd2d",
   "metadata": {},
   "outputs": [
    {
     "data": {
      "text/html": [
       "\n",
       "<style>\n",
       "    /* Turns off some styling */\n",
       "    progress {\n",
       "        /* gets rid of default border in Firefox and Opera. */\n",
       "        border: none;\n",
       "        /* Needs to be in here for Safari polyfill so background images work as expected. */\n",
       "        background-size: auto;\n",
       "    }\n",
       "    progress:not([value]), progress:not([value])::-webkit-progress-bar {\n",
       "        background: repeating-linear-gradient(45deg, #7e7e7e, #7e7e7e 10px, #5c5c5c 10px, #5c5c5c 20px);\n",
       "    }\n",
       "    .progress-bar-interrupted, .progress-bar-interrupted::-webkit-progress-bar {\n",
       "        background: #F44336;\n",
       "    }\n",
       "</style>\n"
      ],
      "text/plain": [
       "<IPython.core.display.HTML object>"
      ]
     },
     "metadata": {},
     "output_type": "display_data"
    },
    {
     "data": {
      "text/html": [],
      "text/plain": [
       "<IPython.core.display.HTML object>"
      ]
     },
     "metadata": {},
     "output_type": "display_data"
    },
    {
     "name": "stdout",
     "output_type": "stream",
     "text": [
      "Test accuracy: 1.0\n"
     ]
    }
   ],
   "source": [
    "# Validating the manufacturer prediction model\n",
    "res = learner.validate()\n",
    "print(f\"Test accuracy: {res[1]:.3}\")"
   ]
  },
  {
   "cell_type": "code",
   "execution_count": 15,
   "id": "6e43e38b",
   "metadata": {},
   "outputs": [
    {
     "data": {
      "text/html": [
       "\n",
       "<style>\n",
       "    /* Turns off some styling */\n",
       "    progress {\n",
       "        /* gets rid of default border in Firefox and Opera. */\n",
       "        border: none;\n",
       "        /* Needs to be in here for Safari polyfill so background images work as expected. */\n",
       "        background-size: auto;\n",
       "    }\n",
       "    progress:not([value]), progress:not([value])::-webkit-progress-bar {\n",
       "        background: repeating-linear-gradient(45deg, #7e7e7e, #7e7e7e 10px, #5c5c5c 10px, #5c5c5c 20px);\n",
       "    }\n",
       "    .progress-bar-interrupted, .progress-bar-interrupted::-webkit-progress-bar {\n",
       "        background: #F44336;\n",
       "    }\n",
       "</style>\n"
      ],
      "text/plain": [
       "<IPython.core.display.HTML object>"
      ]
     },
     "metadata": {},
     "output_type": "display_data"
    },
    {
     "data": {
      "text/html": [],
      "text/plain": [
       "<IPython.core.display.HTML object>"
      ]
     },
     "metadata": {},
     "output_type": "display_data"
    }
   ],
   "source": [
    "# Calculating data for condidence intervals\n",
    "res = learner.get_preds()\n",
    "\n",
    "probs = np.array(res[0])\n",
    "targs = np.array(res[1])\n",
    "preds = np.argmax(probs, axis=1)\n",
    "output_df = pd.DataFrame(data=probs, columns=learner.dls[1].vocab)\n",
    "output_df.columns = [str(i) + \" - \" + output_df.columns[i] for i in range(len(output_df.columns))]\n",
    "output_df.loc[:, \"Prediction\"] = preds\n",
    "output_df.loc[:, \"Target\"] = targs\n",
    "output_df.index = holdout_df[\"patch_fname\"].apply(lambda x: \"/\".join(x.split(\"/\")[-2:]))\n",
    "output_df.to_excel(abs_dataset_path / \"20240129_preds_confidence_howard_model.xlsx\")"
   ]
  },
  {
   "cell_type": "code",
   "execution_count": 16,
   "id": "7af13d01",
   "metadata": {
    "scrolled": false
   },
   "outputs": [
    {
     "data": {
      "text/html": [
       "\n",
       "<style>\n",
       "    /* Turns off some styling */\n",
       "    progress {\n",
       "        /* gets rid of default border in Firefox and Opera. */\n",
       "        border: none;\n",
       "        /* Needs to be in here for Safari polyfill so background images work as expected. */\n",
       "        background-size: auto;\n",
       "    }\n",
       "    progress:not([value]), progress:not([value])::-webkit-progress-bar {\n",
       "        background: repeating-linear-gradient(45deg, #7e7e7e, #7e7e7e 10px, #5c5c5c 10px, #5c5c5c 20px);\n",
       "    }\n",
       "    .progress-bar-interrupted, .progress-bar-interrupted::-webkit-progress-bar {\n",
       "        background: #F44336;\n",
       "    }\n",
       "</style>\n"
      ],
      "text/plain": [
       "<IPython.core.display.HTML object>"
      ]
     },
     "metadata": {},
     "output_type": "display_data"
    },
    {
     "data": {
      "text/html": [],
      "text/plain": [
       "<IPython.core.display.HTML object>"
      ]
     },
     "metadata": {},
     "output_type": "display_data"
    },
    {
     "name": "stdout",
     "output_type": "stream",
     "text": [
      "Test accuracy: 0.8\n"
     ]
    }
   ],
   "source": [
    "# Defining the dataloader and loading the model for model prediction\n",
    "dls = ImageDataLoaders.from_df(\n",
    "    add_df,\n",
    "    fn_col=\"patch_fname\",\n",
    "    label_col=\"Exaktes_Modell\",\n",
    "    valid_col=\"is_valid\",\n",
    "    item_tfms=Resize(256),\n",
    "    batch_tfms=[*aug_transforms(size=256, min_scale=0.1)],\n",
    "    bs=16,\n",
    ")\n",
    "\n",
    "# Setting the experiment name to save the model\n",
    "exp_name = \"s256_cls_m\"\n",
    "\n",
    "# Loading the model\n",
    "learner = vision_learner(dls, resnet50, metrics=accuracy).to_fp16()\n",
    "load_model(\"models/{}\".format(exp_name), learner.model, learner.opt, device=\"cpu\")\n",
    "# load_model(\"models/{}\".format(exp_name), learner.model, learner.opt, device=\"cuda:0\")\n",
    "\n",
    "# Estimating model performance on the new data\n",
    "res = learner.validate()\n",
    "print(f\"Test accuracy: {res[1]:.3}\")"
   ]
  },
  {
   "cell_type": "code",
   "execution_count": 17,
   "id": "219f838a",
   "metadata": {},
   "outputs": [
    {
     "data": {
      "text/html": [
       "\n",
       "<style>\n",
       "    /* Turns off some styling */\n",
       "    progress {\n",
       "        /* gets rid of default border in Firefox and Opera. */\n",
       "        border: none;\n",
       "        /* Needs to be in here for Safari polyfill so background images work as expected. */\n",
       "        background-size: auto;\n",
       "    }\n",
       "    progress:not([value]), progress:not([value])::-webkit-progress-bar {\n",
       "        background: repeating-linear-gradient(45deg, #7e7e7e, #7e7e7e 10px, #5c5c5c 10px, #5c5c5c 20px);\n",
       "    }\n",
       "    .progress-bar-interrupted, .progress-bar-interrupted::-webkit-progress-bar {\n",
       "        background: #F44336;\n",
       "    }\n",
       "</style>\n"
      ],
      "text/plain": [
       "<IPython.core.display.HTML object>"
      ]
     },
     "metadata": {},
     "output_type": "display_data"
    },
    {
     "data": {
      "text/html": [],
      "text/plain": [
       "<IPython.core.display.HTML object>"
      ]
     },
     "metadata": {},
     "output_type": "display_data"
    }
   ],
   "source": [
    "# Calculating data for condidence intervals\n",
    "res = learner.get_preds()\n",
    "\n",
    "probs = np.array(res[0])\n",
    "targs = np.array(res[1])\n",
    "preds = np.argmax(probs, axis=1)\n",
    "output_df = pd.DataFrame(data=probs, columns=learner.dls[1].vocab)\n",
    "output_df.columns = [str(i) + \" - \" + output_df.columns[i] for i in range(len(output_df.columns))]\n",
    "output_df.loc[:, \"Prediction\"] = preds\n",
    "output_df.loc[:, \"Target\"] = targs\n",
    "output_df.index = holdout_df[\"patch_fname\"].apply(lambda x: \"/\".join(x.split(\"/\")[-2:]))\n",
    "output_df.to_excel(abs_dataset_path / \"20240129_preds_confidence_howard_model.xlsx\")"
   ]
  }
 ],
 "metadata": {
  "kernelspec": {
   "display_name": "Python 3 (ipykernel)",
   "language": "python",
   "name": "python3"
  },
  "language_info": {
   "codemirror_mode": {
    "name": "ipython",
    "version": 3
   },
   "file_extension": ".py",
   "mimetype": "text/x-python",
   "name": "python",
   "nbconvert_exporter": "python",
   "pygments_lexer": "ipython3",
   "version": "3.8.16"
  }
 },
 "nbformat": 4,
 "nbformat_minor": 5
}
